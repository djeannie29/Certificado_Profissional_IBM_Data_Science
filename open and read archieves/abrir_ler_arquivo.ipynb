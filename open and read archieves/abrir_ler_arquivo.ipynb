{
 "cells": [
  {
   "cell_type": "code",
   "execution_count": null,
   "id": "c194a6c5-2137-412d-a0fb-18193a470605",
   "metadata": {},
   "outputs": [],
   "source": [
    "File1=open('d:/Faculdade/IBM/downloads/sucesso.txt','r')"
   ]
  },
  {
   "cell_type": "code",
   "execution_count": null,
   "id": "4114b2a0-700c-4ebe-ae59-4d32371ee495",
   "metadata": {},
   "outputs": [],
   "source": [
    "File1.mode"
   ]
  },
  {
   "cell_type": "code",
   "execution_count": null,
   "id": "f85c9214-cb1e-4c8e-8f1b-20a7386c13c8",
   "metadata": {},
   "outputs": [],
   "source": [
    "File1.close()"
   ]
  },
  {
   "cell_type": "code",
   "execution_count": 12,
   "id": "0b97c3fc-c6dc-4324-9a2f-f99a245e50f1",
   "metadata": {},
   "outputs": [
    {
     "name": "stdout",
     "output_type": "stream",
     "text": [
      "Você \n",
      "é demais! \n",
      "\n",
      "Parabéns!\n",
      "\n",
      "Você é puro sucesso!\n",
      "\n",
      "Você é vencedora!\n",
      "\n",
      "True\n",
      "Você é vencedora!\n",
      "\n"
     ]
    }
   ],
   "source": [
    "with open('d:/Faculdade/IBM/downloads/sucesso.txt','r') as File2:\n",
    "          file_stuff=File2.readline(5)\n",
    "          print(file_stuff)\n",
    "          file_stuff=File2.readline()\n",
    "          print(file_stuff)\n",
    "          file_stuff=File2.readline()\n",
    "          print(file_stuff)\n",
    "          file_stuff=File2.readline()\n",
    "          print(file_stuff)\n",
    "          file_stuff=File2.readline()\n",
    "          print(file_stuff)\n",
    "print(File2.closed)     \n",
    "print(file_stuff)"
   ]
  },
  {
   "cell_type": "code",
   "execution_count": 6,
   "id": "fb12d8d9-b2b7-4dfc-ae8a-e4702466c723",
   "metadata": {},
   "outputs": [
    {
     "name": "stdout",
     "output_type": "stream",
     "text": [
      "Você é demais! \n",
      "\n",
      "Parabéns!\n",
      "\n",
      "Você é puro sucesso!\n",
      "\n",
      "Você é vencedora!\n",
      "\n",
      "Deus está contigo!\n",
      "\n",
      "True\n"
     ]
    }
   ],
   "source": [
    "with open('d:/Faculdade/IBM/downloads/sucesso.txt','r') as File3:\n",
    "     for line in File3:\n",
    "          print(line)\n",
    "\n",
    "print(File3.closed)     \n"
   ]
  },
  {
   "cell_type": "code",
   "execution_count": null,
   "id": "23894fa1-6e52-4627-bcb5-283d142d4adf",
   "metadata": {},
   "outputs": [],
   "source": []
  }
 ],
 "metadata": {
  "kernelspec": {
   "display_name": "Python 3 (ipykernel)",
   "language": "python",
   "name": "python3"
  },
  "language_info": {
   "codemirror_mode": {
    "name": "ipython",
    "version": 3
   },
   "file_extension": ".py",
   "mimetype": "text/x-python",
   "name": "python",
   "nbconvert_exporter": "python",
   "pygments_lexer": "ipython3",
   "version": "3.9.12"
  }
 },
 "nbformat": 4,
 "nbformat_minor": 5
}
