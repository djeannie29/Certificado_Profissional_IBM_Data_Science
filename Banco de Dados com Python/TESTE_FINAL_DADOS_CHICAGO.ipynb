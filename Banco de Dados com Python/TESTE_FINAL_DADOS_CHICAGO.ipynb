{
 "cells": [
  {
   "cell_type": "code",
   "execution_count": 3,
   "id": "bff67a37-6a43-4a91-a1ff-dd4283515088",
   "metadata": {},
   "outputs": [
    {
     "ename": "ModuleNotFoundError",
     "evalue": "No module named 'sqlalchemy'",
     "output_type": "error",
     "traceback": [
      "\u001b[1;31m---------------------------------------------------------------------------\u001b[0m",
      "\u001b[1;31mModuleNotFoundError\u001b[0m                       Traceback (most recent call last)",
      "\u001b[1;32m~\\AppData\\Local\\Temp\\ipykernel_18868\\3202754126.py\u001b[0m in \u001b[0;36m<module>\u001b[1;34m\u001b[0m\n\u001b[1;32m----> 1\u001b[1;33m \u001b[0mget_ipython\u001b[0m\u001b[1;33m(\u001b[0m\u001b[1;33m)\u001b[0m\u001b[1;33m.\u001b[0m\u001b[0mrun_line_magic\u001b[0m\u001b[1;33m(\u001b[0m\u001b[1;34m'load_ext'\u001b[0m\u001b[1;33m,\u001b[0m \u001b[1;34m'sql'\u001b[0m\u001b[1;33m)\u001b[0m\u001b[1;33m\u001b[0m\u001b[1;33m\u001b[0m\u001b[0m\n\u001b[0m",
      "\u001b[1;32mD:\\python\\lib\\site-packages\\IPython\\core\\interactiveshell.py\u001b[0m in \u001b[0;36mrun_line_magic\u001b[1;34m(self, magic_name, line, _stack_depth)\u001b[0m\n\u001b[0;32m   2362\u001b[0m                 \u001b[0mkwargs\u001b[0m\u001b[1;33m[\u001b[0m\u001b[1;34m'local_ns'\u001b[0m\u001b[1;33m]\u001b[0m \u001b[1;33m=\u001b[0m \u001b[0mself\u001b[0m\u001b[1;33m.\u001b[0m\u001b[0mget_local_scope\u001b[0m\u001b[1;33m(\u001b[0m\u001b[0mstack_depth\u001b[0m\u001b[1;33m)\u001b[0m\u001b[1;33m\u001b[0m\u001b[1;33m\u001b[0m\u001b[0m\n\u001b[0;32m   2363\u001b[0m             \u001b[1;32mwith\u001b[0m \u001b[0mself\u001b[0m\u001b[1;33m.\u001b[0m\u001b[0mbuiltin_trap\u001b[0m\u001b[1;33m:\u001b[0m\u001b[1;33m\u001b[0m\u001b[1;33m\u001b[0m\u001b[0m\n\u001b[1;32m-> 2364\u001b[1;33m                 \u001b[0mresult\u001b[0m \u001b[1;33m=\u001b[0m \u001b[0mfn\u001b[0m\u001b[1;33m(\u001b[0m\u001b[1;33m*\u001b[0m\u001b[0margs\u001b[0m\u001b[1;33m,\u001b[0m \u001b[1;33m**\u001b[0m\u001b[0mkwargs\u001b[0m\u001b[1;33m)\u001b[0m\u001b[1;33m\u001b[0m\u001b[1;33m\u001b[0m\u001b[0m\n\u001b[0m\u001b[0;32m   2365\u001b[0m             \u001b[1;32mreturn\u001b[0m \u001b[0mresult\u001b[0m\u001b[1;33m\u001b[0m\u001b[1;33m\u001b[0m\u001b[0m\n\u001b[0;32m   2366\u001b[0m \u001b[1;33m\u001b[0m\u001b[0m\n",
      "\u001b[1;32mD:\\python\\lib\\site-packages\\decorator.py\u001b[0m in \u001b[0;36mfun\u001b[1;34m(*args, **kw)\u001b[0m\n\u001b[0;32m    230\u001b[0m             \u001b[1;32mif\u001b[0m \u001b[1;32mnot\u001b[0m \u001b[0mkwsyntax\u001b[0m\u001b[1;33m:\u001b[0m\u001b[1;33m\u001b[0m\u001b[1;33m\u001b[0m\u001b[0m\n\u001b[0;32m    231\u001b[0m                 \u001b[0margs\u001b[0m\u001b[1;33m,\u001b[0m \u001b[0mkw\u001b[0m \u001b[1;33m=\u001b[0m \u001b[0mfix\u001b[0m\u001b[1;33m(\u001b[0m\u001b[0margs\u001b[0m\u001b[1;33m,\u001b[0m \u001b[0mkw\u001b[0m\u001b[1;33m,\u001b[0m \u001b[0msig\u001b[0m\u001b[1;33m)\u001b[0m\u001b[1;33m\u001b[0m\u001b[1;33m\u001b[0m\u001b[0m\n\u001b[1;32m--> 232\u001b[1;33m             \u001b[1;32mreturn\u001b[0m \u001b[0mcaller\u001b[0m\u001b[1;33m(\u001b[0m\u001b[0mfunc\u001b[0m\u001b[1;33m,\u001b[0m \u001b[1;33m*\u001b[0m\u001b[1;33m(\u001b[0m\u001b[0mextras\u001b[0m \u001b[1;33m+\u001b[0m \u001b[0margs\u001b[0m\u001b[1;33m)\u001b[0m\u001b[1;33m,\u001b[0m \u001b[1;33m**\u001b[0m\u001b[0mkw\u001b[0m\u001b[1;33m)\u001b[0m\u001b[1;33m\u001b[0m\u001b[1;33m\u001b[0m\u001b[0m\n\u001b[0m\u001b[0;32m    233\u001b[0m     \u001b[0mfun\u001b[0m\u001b[1;33m.\u001b[0m\u001b[0m__name__\u001b[0m \u001b[1;33m=\u001b[0m \u001b[0mfunc\u001b[0m\u001b[1;33m.\u001b[0m\u001b[0m__name__\u001b[0m\u001b[1;33m\u001b[0m\u001b[1;33m\u001b[0m\u001b[0m\n\u001b[0;32m    234\u001b[0m     \u001b[0mfun\u001b[0m\u001b[1;33m.\u001b[0m\u001b[0m__doc__\u001b[0m \u001b[1;33m=\u001b[0m \u001b[0mfunc\u001b[0m\u001b[1;33m.\u001b[0m\u001b[0m__doc__\u001b[0m\u001b[1;33m\u001b[0m\u001b[1;33m\u001b[0m\u001b[0m\n",
      "\u001b[1;32mD:\\python\\lib\\site-packages\\IPython\\core\\magic.py\u001b[0m in \u001b[0;36m<lambda>\u001b[1;34m(f, *a, **k)\u001b[0m\n\u001b[0;32m    185\u001b[0m     \u001b[1;31m# but it's overkill for just that one bit of state.\u001b[0m\u001b[1;33m\u001b[0m\u001b[1;33m\u001b[0m\u001b[0m\n\u001b[0;32m    186\u001b[0m     \u001b[1;32mdef\u001b[0m \u001b[0mmagic_deco\u001b[0m\u001b[1;33m(\u001b[0m\u001b[0marg\u001b[0m\u001b[1;33m)\u001b[0m\u001b[1;33m:\u001b[0m\u001b[1;33m\u001b[0m\u001b[1;33m\u001b[0m\u001b[0m\n\u001b[1;32m--> 187\u001b[1;33m         \u001b[0mcall\u001b[0m \u001b[1;33m=\u001b[0m \u001b[1;32mlambda\u001b[0m \u001b[0mf\u001b[0m\u001b[1;33m,\u001b[0m \u001b[1;33m*\u001b[0m\u001b[0ma\u001b[0m\u001b[1;33m,\u001b[0m \u001b[1;33m**\u001b[0m\u001b[0mk\u001b[0m\u001b[1;33m:\u001b[0m \u001b[0mf\u001b[0m\u001b[1;33m(\u001b[0m\u001b[1;33m*\u001b[0m\u001b[0ma\u001b[0m\u001b[1;33m,\u001b[0m \u001b[1;33m**\u001b[0m\u001b[0mk\u001b[0m\u001b[1;33m)\u001b[0m\u001b[1;33m\u001b[0m\u001b[1;33m\u001b[0m\u001b[0m\n\u001b[0m\u001b[0;32m    188\u001b[0m \u001b[1;33m\u001b[0m\u001b[0m\n\u001b[0;32m    189\u001b[0m         \u001b[1;32mif\u001b[0m \u001b[0mcallable\u001b[0m\u001b[1;33m(\u001b[0m\u001b[0marg\u001b[0m\u001b[1;33m)\u001b[0m\u001b[1;33m:\u001b[0m\u001b[1;33m\u001b[0m\u001b[1;33m\u001b[0m\u001b[0m\n",
      "\u001b[1;32mD:\\python\\lib\\site-packages\\IPython\\core\\magics\\extension.py\u001b[0m in \u001b[0;36mload_ext\u001b[1;34m(self, module_str)\u001b[0m\n\u001b[0;32m     31\u001b[0m         \u001b[1;32mif\u001b[0m \u001b[1;32mnot\u001b[0m \u001b[0mmodule_str\u001b[0m\u001b[1;33m:\u001b[0m\u001b[1;33m\u001b[0m\u001b[1;33m\u001b[0m\u001b[0m\n\u001b[0;32m     32\u001b[0m             \u001b[1;32mraise\u001b[0m \u001b[0mUsageError\u001b[0m\u001b[1;33m(\u001b[0m\u001b[1;34m'Missing module name.'\u001b[0m\u001b[1;33m)\u001b[0m\u001b[1;33m\u001b[0m\u001b[1;33m\u001b[0m\u001b[0m\n\u001b[1;32m---> 33\u001b[1;33m         \u001b[0mres\u001b[0m \u001b[1;33m=\u001b[0m \u001b[0mself\u001b[0m\u001b[1;33m.\u001b[0m\u001b[0mshell\u001b[0m\u001b[1;33m.\u001b[0m\u001b[0mextension_manager\u001b[0m\u001b[1;33m.\u001b[0m\u001b[0mload_extension\u001b[0m\u001b[1;33m(\u001b[0m\u001b[0mmodule_str\u001b[0m\u001b[1;33m)\u001b[0m\u001b[1;33m\u001b[0m\u001b[1;33m\u001b[0m\u001b[0m\n\u001b[0m\u001b[0;32m     34\u001b[0m \u001b[1;33m\u001b[0m\u001b[0m\n\u001b[0;32m     35\u001b[0m         \u001b[1;32mif\u001b[0m \u001b[0mres\u001b[0m \u001b[1;33m==\u001b[0m \u001b[1;34m'already loaded'\u001b[0m\u001b[1;33m:\u001b[0m\u001b[1;33m\u001b[0m\u001b[1;33m\u001b[0m\u001b[0m\n",
      "\u001b[1;32mD:\\python\\lib\\site-packages\\IPython\\core\\extensions.py\u001b[0m in \u001b[0;36mload_extension\u001b[1;34m(self, module_str)\u001b[0m\n\u001b[0;32m     78\u001b[0m             \u001b[1;32mif\u001b[0m \u001b[0mmodule_str\u001b[0m \u001b[1;32mnot\u001b[0m \u001b[1;32min\u001b[0m \u001b[0msys\u001b[0m\u001b[1;33m.\u001b[0m\u001b[0mmodules\u001b[0m\u001b[1;33m:\u001b[0m\u001b[1;33m\u001b[0m\u001b[1;33m\u001b[0m\u001b[0m\n\u001b[0;32m     79\u001b[0m                 \u001b[1;32mwith\u001b[0m \u001b[0mprepended_to_syspath\u001b[0m\u001b[1;33m(\u001b[0m\u001b[0mself\u001b[0m\u001b[1;33m.\u001b[0m\u001b[0mipython_extension_dir\u001b[0m\u001b[1;33m)\u001b[0m\u001b[1;33m:\u001b[0m\u001b[1;33m\u001b[0m\u001b[1;33m\u001b[0m\u001b[0m\n\u001b[1;32m---> 80\u001b[1;33m                     \u001b[0mmod\u001b[0m \u001b[1;33m=\u001b[0m \u001b[0mimport_module\u001b[0m\u001b[1;33m(\u001b[0m\u001b[0mmodule_str\u001b[0m\u001b[1;33m)\u001b[0m\u001b[1;33m\u001b[0m\u001b[1;33m\u001b[0m\u001b[0m\n\u001b[0m\u001b[0;32m     81\u001b[0m                     \u001b[1;32mif\u001b[0m \u001b[0mmod\u001b[0m\u001b[1;33m.\u001b[0m\u001b[0m__file__\u001b[0m\u001b[1;33m.\u001b[0m\u001b[0mstartswith\u001b[0m\u001b[1;33m(\u001b[0m\u001b[0mself\u001b[0m\u001b[1;33m.\u001b[0m\u001b[0mipython_extension_dir\u001b[0m\u001b[1;33m)\u001b[0m\u001b[1;33m:\u001b[0m\u001b[1;33m\u001b[0m\u001b[1;33m\u001b[0m\u001b[0m\n\u001b[0;32m     82\u001b[0m                         print((\"Loading extensions from {dir} is deprecated. \"\n",
      "\u001b[1;32mD:\\python\\lib\\importlib\\__init__.py\u001b[0m in \u001b[0;36mimport_module\u001b[1;34m(name, package)\u001b[0m\n\u001b[0;32m    125\u001b[0m                 \u001b[1;32mbreak\u001b[0m\u001b[1;33m\u001b[0m\u001b[1;33m\u001b[0m\u001b[0m\n\u001b[0;32m    126\u001b[0m             \u001b[0mlevel\u001b[0m \u001b[1;33m+=\u001b[0m \u001b[1;36m1\u001b[0m\u001b[1;33m\u001b[0m\u001b[1;33m\u001b[0m\u001b[0m\n\u001b[1;32m--> 127\u001b[1;33m     \u001b[1;32mreturn\u001b[0m \u001b[0m_bootstrap\u001b[0m\u001b[1;33m.\u001b[0m\u001b[0m_gcd_import\u001b[0m\u001b[1;33m(\u001b[0m\u001b[0mname\u001b[0m\u001b[1;33m[\u001b[0m\u001b[0mlevel\u001b[0m\u001b[1;33m:\u001b[0m\u001b[1;33m]\u001b[0m\u001b[1;33m,\u001b[0m \u001b[0mpackage\u001b[0m\u001b[1;33m,\u001b[0m \u001b[0mlevel\u001b[0m\u001b[1;33m)\u001b[0m\u001b[1;33m\u001b[0m\u001b[1;33m\u001b[0m\u001b[0m\n\u001b[0m\u001b[0;32m    128\u001b[0m \u001b[1;33m\u001b[0m\u001b[0m\n\u001b[0;32m    129\u001b[0m \u001b[1;33m\u001b[0m\u001b[0m\n",
      "\u001b[1;32mD:\\python\\lib\\importlib\\_bootstrap.py\u001b[0m in \u001b[0;36m_gcd_import\u001b[1;34m(name, package, level)\u001b[0m\n",
      "\u001b[1;32mD:\\python\\lib\\importlib\\_bootstrap.py\u001b[0m in \u001b[0;36m_find_and_load\u001b[1;34m(name, import_)\u001b[0m\n",
      "\u001b[1;32mD:\\python\\lib\\importlib\\_bootstrap.py\u001b[0m in \u001b[0;36m_find_and_load_unlocked\u001b[1;34m(name, import_)\u001b[0m\n",
      "\u001b[1;32mD:\\python\\lib\\importlib\\_bootstrap.py\u001b[0m in \u001b[0;36m_load_unlocked\u001b[1;34m(spec)\u001b[0m\n",
      "\u001b[1;32mD:\\python\\lib\\importlib\\_bootstrap_external.py\u001b[0m in \u001b[0;36mexec_module\u001b[1;34m(self, module)\u001b[0m\n",
      "\u001b[1;32mD:\\python\\lib\\importlib\\_bootstrap.py\u001b[0m in \u001b[0;36m_call_with_frames_removed\u001b[1;34m(f, *args, **kwds)\u001b[0m\n",
      "\u001b[1;32mD:\\python\\lib\\site-packages\\sql\\__init__.py\u001b[0m in \u001b[0;36m<module>\u001b[1;34m\u001b[0m\n\u001b[1;32m----> 1\u001b[1;33m \u001b[1;32mfrom\u001b[0m \u001b[1;33m.\u001b[0m\u001b[0mmagic\u001b[0m \u001b[1;32mimport\u001b[0m \u001b[1;33m*\u001b[0m\u001b[1;33m\u001b[0m\u001b[1;33m\u001b[0m\u001b[0m\n\u001b[0m",
      "\u001b[1;32mD:\\python\\lib\\site-packages\\sql\\magic.py\u001b[0m in \u001b[0;36m<module>\u001b[1;34m\u001b[0m\n\u001b[0;32m     12\u001b[0m \u001b[1;32mfrom\u001b[0m \u001b[0mIPython\u001b[0m\u001b[1;33m.\u001b[0m\u001b[0mcore\u001b[0m\u001b[1;33m.\u001b[0m\u001b[0mmagic_arguments\u001b[0m \u001b[1;32mimport\u001b[0m \u001b[0margument\u001b[0m\u001b[1;33m,\u001b[0m \u001b[0mmagic_arguments\u001b[0m\u001b[1;33m,\u001b[0m \u001b[0mparse_argstring\u001b[0m\u001b[1;33m\u001b[0m\u001b[1;33m\u001b[0m\u001b[0m\n\u001b[0;32m     13\u001b[0m \u001b[1;32mfrom\u001b[0m \u001b[0mIPython\u001b[0m\u001b[1;33m.\u001b[0m\u001b[0mdisplay\u001b[0m \u001b[1;32mimport\u001b[0m \u001b[0mdisplay_javascript\u001b[0m\u001b[1;33m\u001b[0m\u001b[1;33m\u001b[0m\u001b[0m\n\u001b[1;32m---> 14\u001b[1;33m \u001b[1;32mfrom\u001b[0m \u001b[0msqlalchemy\u001b[0m\u001b[1;33m.\u001b[0m\u001b[0mexc\u001b[0m \u001b[1;32mimport\u001b[0m \u001b[0mOperationalError\u001b[0m\u001b[1;33m,\u001b[0m \u001b[0mProgrammingError\u001b[0m\u001b[1;33m,\u001b[0m \u001b[0mDatabaseError\u001b[0m\u001b[1;33m\u001b[0m\u001b[1;33m\u001b[0m\u001b[0m\n\u001b[0m\u001b[0;32m     15\u001b[0m \u001b[1;33m\u001b[0m\u001b[0m\n\u001b[0;32m     16\u001b[0m \u001b[1;32mimport\u001b[0m \u001b[0msql\u001b[0m\u001b[1;33m.\u001b[0m\u001b[0mconnection\u001b[0m\u001b[1;33m\u001b[0m\u001b[1;33m\u001b[0m\u001b[0m\n",
      "\u001b[1;31mModuleNotFoundError\u001b[0m: No module named 'sqlalchemy'"
     ]
    }
   ],
   "source": [
    "%load_ext sql"
   ]
  },
  {
   "cell_type": "code",
   "execution_count": 1,
   "id": "83577931-a940-4051-b093-af441417bebd",
   "metadata": {},
   "outputs": [
    {
     "name": "stderr",
     "output_type": "stream",
     "text": [
      "UsageError: Line magic function `%sql` not found.\n"
     ]
    }
   ],
   "source": [
    "%sql ibm_db_sa://wzk22941:Z6ZUKtH5bpzNQrEW@b0aebb68-94fa-46ec-a1fc-1c999edb6187.c3n41cmd0nqnrk39u98g.databases.appdomain.cloud:31249/bludb?security=SSL"
   ]
  },
  {
   "cell_type": "code",
   "execution_count": 3,
   "id": "1ad3b5b8-795b-43d2-a8c6-b0adb6d80172",
   "metadata": {},
   "outputs": [
    {
     "name": "stdout",
     "output_type": "stream",
     "text": [
      " * ibm_db_sa://wzk22941:***@b0aebb68-94fa-46ec-a1fc-1c999edb6187.c3n41cmd0nqnrk39u98g.databases.appdomain.cloud:31249/bludb\n",
      "Done.\n"
     ]
    },
    {
     "data": {
      "text/html": [
       "<table>\n",
       "    <tr>\n",
       "        <th>tabschema</th>\n",
       "        <th>tabname</th>\n",
       "        <th>create_time</th>\n",
       "    </tr>\n",
       "</table>"
      ],
      "text/plain": [
       "[]"
      ]
     },
     "execution_count": 3,
     "metadata": {},
     "output_type": "execute_result"
    }
   ],
   "source": [
    "%sql select TABSCHEMA, TABNAME, CREATE_TIME from SYSCAT.TABLES where TABSCHEMA='wzk22941';"
   ]
  },
  {
   "cell_type": "code",
   "execution_count": 4,
   "id": "c2c9f8f6-e372-4e34-b6bb-1f1dac895a5c",
   "metadata": {},
   "outputs": [
    {
     "name": "stdout",
     "output_type": "stream",
     "text": [
      " * ibm_db_sa://wzk22941:***@b0aebb68-94fa-46ec-a1fc-1c999edb6187.c3n41cmd0nqnrk39u98g.databases.appdomain.cloud:31249/bludb\n",
      "Done.\n"
     ]
    },
    {
     "data": {
      "text/html": [
       "<table>\n",
       "    <tr>\n",
       "        <th>colname</th>\n",
       "        <th>typename</th>\n",
       "        <th>length</th>\n",
       "    </tr>\n",
       "    <tr>\n",
       "        <td>ID</td>\n",
       "        <td>INTEGER</td>\n",
       "        <td>4</td>\n",
       "    </tr>\n",
       "    <tr>\n",
       "        <td>CASE_NUMBER</td>\n",
       "        <td>VARCHAR</td>\n",
       "        <td>8</td>\n",
       "    </tr>\n",
       "    <tr>\n",
       "        <td>DATE</td>\n",
       "        <td>DATE</td>\n",
       "        <td>4</td>\n",
       "    </tr>\n",
       "    <tr>\n",
       "        <td>BLOCK</td>\n",
       "        <td>VARCHAR</td>\n",
       "        <td>35</td>\n",
       "    </tr>\n",
       "    <tr>\n",
       "        <td>IUCR</td>\n",
       "        <td>VARCHAR</td>\n",
       "        <td>4</td>\n",
       "    </tr>\n",
       "    <tr>\n",
       "        <td>PRIMARY_TYPE</td>\n",
       "        <td>VARCHAR</td>\n",
       "        <td>15</td>\n",
       "    </tr>\n",
       "    <tr>\n",
       "        <td>DESCRIPTION</td>\n",
       "        <td>VARCHAR</td>\n",
       "        <td>46</td>\n",
       "    </tr>\n",
       "    <tr>\n",
       "        <td>LOCATION_DESCRIPTION</td>\n",
       "        <td>VARCHAR</td>\n",
       "        <td>33</td>\n",
       "    </tr>\n",
       "    <tr>\n",
       "        <td>ARREST</td>\n",
       "        <td>VARCHAR</td>\n",
       "        <td>5</td>\n",
       "    </tr>\n",
       "    <tr>\n",
       "        <td>DOMESTIC</td>\n",
       "        <td>VARCHAR</td>\n",
       "        <td>5</td>\n",
       "    </tr>\n",
       "    <tr>\n",
       "        <td>BEAT</td>\n",
       "        <td>SMALLINT</td>\n",
       "        <td>2</td>\n",
       "    </tr>\n",
       "    <tr>\n",
       "        <td>DISTRICT</td>\n",
       "        <td>SMALLINT</td>\n",
       "        <td>2</td>\n",
       "    </tr>\n",
       "    <tr>\n",
       "        <td>WARD</td>\n",
       "        <td>SMALLINT</td>\n",
       "        <td>2</td>\n",
       "    </tr>\n",
       "    <tr>\n",
       "        <td>COMMUNITY_AREA_NUMBER</td>\n",
       "        <td>SMALLINT</td>\n",
       "        <td>2</td>\n",
       "    </tr>\n",
       "    <tr>\n",
       "        <td>FBICODE</td>\n",
       "        <td>VARCHAR</td>\n",
       "        <td>3</td>\n",
       "    </tr>\n",
       "    <tr>\n",
       "        <td>X_COORDINATE</td>\n",
       "        <td>INTEGER</td>\n",
       "        <td>4</td>\n",
       "    </tr>\n",
       "    <tr>\n",
       "        <td>Y_COORDINATE</td>\n",
       "        <td>INTEGER</td>\n",
       "        <td>4</td>\n",
       "    </tr>\n",
       "    <tr>\n",
       "        <td>YEAR</td>\n",
       "        <td>SMALLINT</td>\n",
       "        <td>2</td>\n",
       "    </tr>\n",
       "    <tr>\n",
       "        <td>LATITUDE</td>\n",
       "        <td>DECIMAL</td>\n",
       "        <td>18</td>\n",
       "    </tr>\n",
       "    <tr>\n",
       "        <td>LONGITUDE</td>\n",
       "        <td>DECIMAL</td>\n",
       "        <td>18</td>\n",
       "    </tr>\n",
       "    <tr>\n",
       "        <td>LOCATION</td>\n",
       "        <td>VARCHAR</td>\n",
       "        <td>29</td>\n",
       "    </tr>\n",
       "</table>"
      ],
      "text/plain": [
       "[('ID', 'INTEGER', 4),\n",
       " ('CASE_NUMBER', 'VARCHAR', 8),\n",
       " ('DATE', 'DATE', 4),\n",
       " ('BLOCK', 'VARCHAR', 35),\n",
       " ('IUCR', 'VARCHAR', 4),\n",
       " ('PRIMARY_TYPE', 'VARCHAR', 15),\n",
       " ('DESCRIPTION', 'VARCHAR', 46),\n",
       " ('LOCATION_DESCRIPTION', 'VARCHAR', 33),\n",
       " ('ARREST', 'VARCHAR', 5),\n",
       " ('DOMESTIC', 'VARCHAR', 5),\n",
       " ('BEAT', 'SMALLINT', 2),\n",
       " ('DISTRICT', 'SMALLINT', 2),\n",
       " ('WARD', 'SMALLINT', 2),\n",
       " ('COMMUNITY_AREA_NUMBER', 'SMALLINT', 2),\n",
       " ('FBICODE', 'VARCHAR', 3),\n",
       " ('X_COORDINATE', 'INTEGER', 4),\n",
       " ('Y_COORDINATE', 'INTEGER', 4),\n",
       " ('YEAR', 'SMALLINT', 2),\n",
       " ('LATITUDE', 'DECIMAL', 18),\n",
       " ('LONGITUDE', 'DECIMAL', 18),\n",
       " ('LOCATION', 'VARCHAR', 29)]"
      ]
     },
     "execution_count": 4,
     "metadata": {},
     "output_type": "execute_result"
    }
   ],
   "source": [
    "%sql select COLNAME, TYPENAME, LENGTH from SYSCAT.COLUMNS where TABNAME = 'CHICAGO_CRIME_DATA';"
   ]
  },
  {
   "cell_type": "code",
   "execution_count": null,
   "id": "a7e8b46f-e097-4465-a95c-68f90e97705e",
   "metadata": {},
   "outputs": [
    {
     "name": "stdout",
     "output_type": "stream",
     "text": [
      " * ibm_db_sa://wzk22941:***@b0aebb68-94fa-46ec-a1fc-1c999edb6187.c3n41cmd0nqnrk39u98g.databases.appdomain.cloud:31249/bludb\n",
      "Done.\n"
     ]
    },
    {
     "data": {
      "text/html": [
       "<table>\n",
       "    <tr>\n",
       "        <th>colname</th>\n",
       "        <th>typename</th>\n",
       "        <th>length</th>\n",
       "    </tr>\n",
       "    <tr>\n",
       "        <td>COMMUNITY_AREA_NUMBER</td>\n",
       "        <td>SMALLINT</td>\n",
       "        <td>2</td>\n",
       "    </tr>\n",
       "    <tr>\n",
       "        <td>COMMUNITY_AREA_NAME</td>\n",
       "        <td>VARCHAR</td>\n",
       "        <td>22</td>\n",
       "    </tr>\n",
       "    <tr>\n",
       "        <td>PERCENT_OF_HOUSING_CROWDED</td>\n",
       "        <td>DECIMAL</td>\n",
       "        <td>4</td>\n",
       "    </tr>\n",
       "    <tr>\n",
       "        <td>PERCENT_HOUSEHOLDS_BELOW_POVERTY</td>\n",
       "        <td>DECIMAL</td>\n",
       "        <td>4</td>\n",
       "    </tr>\n",
       "    <tr>\n",
       "        <td>PERCENT_AGED_16__UNEMPLOYED</td>\n",
       "        <td>DECIMAL</td>\n",
       "        <td>4</td>\n",
       "    </tr>\n",
       "    <tr>\n",
       "        <td>PERCENT_AGED_25__WITHOUT_HIGH_SCHOOL_DIPLOMA</td>\n",
       "        <td>DECIMAL</td>\n",
       "        <td>4</td>\n",
       "    </tr>\n",
       "    <tr>\n",
       "        <td>PERCENT_AGED_UNDER_18_OR_OVER_64</td>\n",
       "        <td>DECIMAL</td>\n",
       "        <td>4</td>\n",
       "    </tr>\n",
       "    <tr>\n",
       "        <td>PER_CAPITA_INCOME</td>\n",
       "        <td>INTEGER</td>\n",
       "        <td>4</td>\n",
       "    </tr>\n",
       "    <tr>\n",
       "        <td>HARDSHIP_INDEX</td>\n",
       "        <td>SMALLINT</td>\n",
       "        <td>2</td>\n",
       "    </tr>\n",
       "</table>"
      ],
      "text/plain": [
       "[('COMMUNITY_AREA_NUMBER', 'SMALLINT', 2),\n",
       " ('COMMUNITY_AREA_NAME', 'VARCHAR', 22),\n",
       " ('PERCENT_OF_HOUSING_CROWDED', 'DECIMAL', 4),\n",
       " ('PERCENT_HOUSEHOLDS_BELOW_POVERTY', 'DECIMAL', 4),\n",
       " ('PERCENT_AGED_16__UNEMPLOYED', 'DECIMAL', 4),\n",
       " ('PERCENT_AGED_25__WITHOUT_HIGH_SCHOOL_DIPLOMA', 'DECIMAL', 4),\n",
       " ('PERCENT_AGED_UNDER_18_OR_OVER_64', 'DECIMAL', 4),\n",
       " ('PER_CAPITA_INCOME', 'INTEGER', 4),\n",
       " ('HARDSHIP_INDEX', 'SMALLINT', 2)]"
      ]
     },
     "execution_count": 5,
     "metadata": {},
     "output_type": "execute_result"
    }
   ],
   "source": [
    "%sql select COLNAME, TYPENAME, LENGTH from SYSCAT.COLUMNS where TABNAME = 'CENSUS_DATA';"
   ]
  },
  {
   "cell_type": "code",
   "execution_count": 13,
   "id": "8f024982-7de7-412e-acd8-c7d7799df505",
   "metadata": {},
   "outputs": [
    {
     "name": "stdout",
     "output_type": "stream",
     "text": [
      " * ibm_db_sa://wzk22941:***@b0aebb68-94fa-46ec-a1fc-1c999edb6187.c3n41cmd0nqnrk39u98g.databases.appdomain.cloud:31249/bludb\n",
      "Done.\n"
     ]
    },
    {
     "data": {
      "text/html": [
       "<table>\n",
       "    <tr>\n",
       "        <th>community_area_name</th>\n",
       "        <th>per_capita_income</th>\n",
       "    </tr>\n",
       "    <tr>\n",
       "        <td>West Garfield Park</td>\n",
       "        <td>10934</td>\n",
       "    </tr>\n",
       "    <tr>\n",
       "        <td>South Lawndale</td>\n",
       "        <td>10402</td>\n",
       "    </tr>\n",
       "    <tr>\n",
       "        <td>Fuller Park</td>\n",
       "        <td>10432</td>\n",
       "    </tr>\n",
       "    <tr>\n",
       "        <td>Riverdale</td>\n",
       "        <td>8201</td>\n",
       "    </tr>\n",
       "</table>"
      ],
      "text/plain": [
       "[('West Garfield Park', 10934),\n",
       " ('South Lawndale', 10402),\n",
       " ('Fuller Park', 10432),\n",
       " ('Riverdale', 8201)]"
      ]
     },
     "execution_count": 13,
     "metadata": {},
     "output_type": "execute_result"
    }
   ],
   "source": [
    "%sql select COMMUNITY_AREA_NAME, PER_CAPITA_INCOME FROM CENSUS_DATA WHERE PER_CAPITA_INCOME<11000;"
   ]
  },
  {
   "cell_type": "code",
   "execution_count": 17,
   "id": "1f3f79b7-d1d9-422b-9233-efbef8003690",
   "metadata": {},
   "outputs": [
    {
     "name": "stdout",
     "output_type": "stream",
     "text": [
      " * ibm_db_sa://wzk22941:***@b0aebb68-94fa-46ec-a1fc-1c999edb6187.c3n41cmd0nqnrk39u98g.databases.appdomain.cloud:31249/bludb\n",
      "Done.\n"
     ]
    },
    {
     "data": {
      "text/html": [
       "<table>\n",
       "    <tr>\n",
       "        <th>primary_type</th>\n",
       "    </tr>\n",
       "    <tr>\n",
       "        <td>ARSON</td>\n",
       "    </tr>\n",
       "    <tr>\n",
       "        <td>ASSAULT</td>\n",
       "    </tr>\n",
       "    <tr>\n",
       "        <td>BATTERY</td>\n",
       "    </tr>\n",
       "    <tr>\n",
       "        <td>BURGLARY</td>\n",
       "    </tr>\n",
       "    <tr>\n",
       "        <td>CONCEALED CARRY</td>\n",
       "    </tr>\n",
       "    <tr>\n",
       "        <td>CRIM SEXUAL ASS</td>\n",
       "    </tr>\n",
       "    <tr>\n",
       "        <td>CRIMINAL DAMAGE</td>\n",
       "    </tr>\n",
       "    <tr>\n",
       "        <td>CRIMINAL TRESPA</td>\n",
       "    </tr>\n",
       "    <tr>\n",
       "        <td>DECEPTIVE PRACT</td>\n",
       "    </tr>\n",
       "    <tr>\n",
       "        <td>DOMESTIC VIOLEN</td>\n",
       "    </tr>\n",
       "    <tr>\n",
       "        <td>GAMBLING</td>\n",
       "    </tr>\n",
       "    <tr>\n",
       "        <td>HOMICIDE</td>\n",
       "    </tr>\n",
       "    <tr>\n",
       "        <td>HUMAN TRAFFICKI</td>\n",
       "    </tr>\n",
       "    <tr>\n",
       "        <td>INTERFERENCE WI</td>\n",
       "    </tr>\n",
       "    <tr>\n",
       "        <td>INTIMIDATION</td>\n",
       "    </tr>\n",
       "    <tr>\n",
       "        <td>KIDNAPPING</td>\n",
       "    </tr>\n",
       "    <tr>\n",
       "        <td>LIQUOR LAW VIOL</td>\n",
       "    </tr>\n",
       "    <tr>\n",
       "        <td>MOTOR VEHICLE T</td>\n",
       "    </tr>\n",
       "    <tr>\n",
       "        <td>NARCOTICS</td>\n",
       "    </tr>\n",
       "    <tr>\n",
       "        <td>NON - CRIMINAL</td>\n",
       "    </tr>\n",
       "    <tr>\n",
       "        <td>NON-CRIMINAL</td>\n",
       "    </tr>\n",
       "    <tr>\n",
       "        <td>NON-CRIMINAL (S</td>\n",
       "    </tr>\n",
       "    <tr>\n",
       "        <td>OBSCENITY</td>\n",
       "    </tr>\n",
       "    <tr>\n",
       "        <td>OFFENSE INVOLVI</td>\n",
       "    </tr>\n",
       "    <tr>\n",
       "        <td>OTHER NARCOTIC </td>\n",
       "    </tr>\n",
       "    <tr>\n",
       "        <td>OTHER OFFENSE</td>\n",
       "    </tr>\n",
       "    <tr>\n",
       "        <td>PROSTITUTION</td>\n",
       "    </tr>\n",
       "    <tr>\n",
       "        <td>PUBLIC INDECENC</td>\n",
       "    </tr>\n",
       "    <tr>\n",
       "        <td>PUBLIC PEACE VI</td>\n",
       "    </tr>\n",
       "    <tr>\n",
       "        <td>RITUALISM</td>\n",
       "    </tr>\n",
       "    <tr>\n",
       "        <td>ROBBERY</td>\n",
       "    </tr>\n",
       "    <tr>\n",
       "        <td>SEX OFFENSE</td>\n",
       "    </tr>\n",
       "    <tr>\n",
       "        <td>STALKING</td>\n",
       "    </tr>\n",
       "    <tr>\n",
       "        <td>THEFT</td>\n",
       "    </tr>\n",
       "    <tr>\n",
       "        <td>WEAPONS VIOLATI</td>\n",
       "    </tr>\n",
       "</table>"
      ],
      "text/plain": [
       "[('ARSON',),\n",
       " ('ASSAULT',),\n",
       " ('BATTERY',),\n",
       " ('BURGLARY',),\n",
       " ('CONCEALED CARRY',),\n",
       " ('CRIM SEXUAL ASS',),\n",
       " ('CRIMINAL DAMAGE',),\n",
       " ('CRIMINAL TRESPA',),\n",
       " ('DECEPTIVE PRACT',),\n",
       " ('DOMESTIC VIOLEN',),\n",
       " ('GAMBLING',),\n",
       " ('HOMICIDE',),\n",
       " ('HUMAN TRAFFICKI',),\n",
       " ('INTERFERENCE WI',),\n",
       " ('INTIMIDATION',),\n",
       " ('KIDNAPPING',),\n",
       " ('LIQUOR LAW VIOL',),\n",
       " ('MOTOR VEHICLE T',),\n",
       " ('NARCOTICS',),\n",
       " ('NON - CRIMINAL',),\n",
       " ('NON-CRIMINAL',),\n",
       " ('NON-CRIMINAL (S',),\n",
       " ('OBSCENITY',),\n",
       " ('OFFENSE INVOLVI',),\n",
       " ('OTHER NARCOTIC ',),\n",
       " ('OTHER OFFENSE',),\n",
       " ('PROSTITUTION',),\n",
       " ('PUBLIC INDECENC',),\n",
       " ('PUBLIC PEACE VI',),\n",
       " ('RITUALISM',),\n",
       " ('ROBBERY',),\n",
       " ('SEX OFFENSE',),\n",
       " ('STALKING',),\n",
       " ('THEFT',),\n",
       " ('WEAPONS VIOLATI',)]"
      ]
     },
     "execution_count": 17,
     "metadata": {},
     "output_type": "execute_result"
    }
   ],
   "source": [
    "%sql select PRIMARY_TYPE from CHICAGO_CRIME_DATA group by PRIMARY_TYPE;"
   ]
  },
  {
   "cell_type": "code",
   "execution_count": 25,
   "id": "3571f531-7b42-4379-84a5-5c616ed0e49c",
   "metadata": {},
   "outputs": [
    {
     "name": "stdout",
     "output_type": "stream",
     "text": [
      " * ibm_db_sa://wzk22941:***@b0aebb68-94fa-46ec-a1fc-1c999edb6187.c3n41cmd0nqnrk39u98g.databases.appdomain.cloud:31249/bludb\n",
      "Done.\n"
     ]
    },
    {
     "data": {
      "text/html": [
       "<table>\n",
       "    <tr>\n",
       "        <th>case_number</th>\n",
       "    </tr>\n",
       "    <tr>\n",
       "        <td>HK238408</td>\n",
       "    </tr>\n",
       "    <tr>\n",
       "        <td>HL266884</td>\n",
       "    </tr>\n",
       "</table>"
      ],
      "text/plain": [
       "[('HK238408',), ('HL266884',)]"
      ]
     },
     "execution_count": 25,
     "metadata": {},
     "output_type": "execute_result"
    }
   ],
   "source": [
    "%sql SELECT DISTINCT CASE_NUMBER from CHICAGO_CRIME_DATA \\\n",
    "WHERE DESCRIPTION LIKE '%MINOR%';"
   ]
  },
  {
   "cell_type": "code",
   "execution_count": 26,
   "id": "bf9db603-4952-4db5-a445-4bfd5ff5b700",
   "metadata": {},
   "outputs": [
    {
     "name": "stdout",
     "output_type": "stream",
     "text": [
      " * ibm_db_sa://wzk22941:***@b0aebb68-94fa-46ec-a1fc-1c999edb6187.c3n41cmd0nqnrk39u98g.databases.appdomain.cloud:31249/bludb\n",
      "Done.\n"
     ]
    },
    {
     "data": {
      "text/html": [
       "<table>\n",
       "    <tr>\n",
       "        <th>case_number</th>\n",
       "        <th>primary_type</th>\n",
       "        <th>description</th>\n",
       "    </tr>\n",
       "    <tr>\n",
       "        <td>HN144152</td>\n",
       "        <td>KIDNAPPING</td>\n",
       "        <td>CHILD ABDUCTION/STRANGER</td>\n",
       "    </tr>\n",
       "</table>"
      ],
      "text/plain": [
       "[('HN144152', 'KIDNAPPING', 'CHILD ABDUCTION/STRANGER')]"
      ]
     },
     "execution_count": 26,
     "metadata": {},
     "output_type": "execute_result"
    }
   ],
   "source": [
    "%sql SELECT DISTINCT CASE_NUMBER, PRIMARY_TYPE, DESCRIPTION FROM CHICAGO_CRIME_DATA \\\n",
    "WHERE PRIMARY_TYPE = 'KIDNAPPING' and DESCRIPTION LIKE '%CHILD%';"
   ]
  },
  {
   "cell_type": "code",
   "execution_count": 43,
   "id": "2aaf15d2-eceb-479c-b30c-21ec123b83d1",
   "metadata": {},
   "outputs": [
    {
     "name": "stdout",
     "output_type": "stream",
     "text": [
      " * ibm_db_sa://wzk22941:***@b0aebb68-94fa-46ec-a1fc-1c999edb6187.c3n41cmd0nqnrk39u98g.databases.appdomain.cloud:31249/bludb\n",
      "Done.\n"
     ]
    },
    {
     "data": {
      "text/html": [
       "<table>\n",
       "    <tr>\n",
       "        <th>primary_type</th>\n",
       "    </tr>\n",
       "    <tr>\n",
       "        <td>ASSAULT</td>\n",
       "    </tr>\n",
       "    <tr>\n",
       "        <td>BATTERY</td>\n",
       "    </tr>\n",
       "    <tr>\n",
       "        <td>CRIMINAL DAMAGE</td>\n",
       "    </tr>\n",
       "    <tr>\n",
       "        <td>CRIMINAL TRESPA</td>\n",
       "    </tr>\n",
       "    <tr>\n",
       "        <td>NARCOTICS</td>\n",
       "    </tr>\n",
       "    <tr>\n",
       "        <td>PUBLIC PEACE VI</td>\n",
       "    </tr>\n",
       "</table>"
      ],
      "text/plain": [
       "[('ASSAULT',),\n",
       " ('BATTERY',),\n",
       " ('CRIMINAL DAMAGE',),\n",
       " ('CRIMINAL TRESPA',),\n",
       " ('NARCOTICS',),\n",
       " ('PUBLIC PEACE VI',)]"
      ]
     },
     "execution_count": 43,
     "metadata": {},
     "output_type": "execute_result"
    }
   ],
   "source": [
    "%sql SELECT DISTINCT(PRIMARY_TYPE) from CHICAGO_CRIME_DATA WHERE LOCATION_DESCRIPTION LIKE '%SCHOOL%';"
   ]
  },
  {
   "cell_type": "code",
   "execution_count": 50,
   "id": "f08947e5-cef8-42a4-a1dd-084264dff4ea",
   "metadata": {},
   "outputs": [
    {
     "name": "stdout",
     "output_type": "stream",
     "text": [
      " * ibm_db_sa://wzk22941:***@b0aebb68-94fa-46ec-a1fc-1c999edb6187.c3n41cmd0nqnrk39u98g.databases.appdomain.cloud:31249/bludb\n",
      "Done.\n"
     ]
    },
    {
     "data": {
      "text/html": [
       "<table>\n",
       "    <tr>\n",
       "        <th>colname</th>\n",
       "    </tr>\n",
       "    <tr>\n",
       "        <td>10th Grade PLAN (2009)</td>\n",
       "    </tr>\n",
       "    <tr>\n",
       "        <td>10th Grade PLAN (2010)</td>\n",
       "    </tr>\n",
       "    <tr>\n",
       "        <td>11th Grade Average ACT (2011)</td>\n",
       "    </tr>\n",
       "    <tr>\n",
       "        <td>9th Grade EXPLORE (2009)</td>\n",
       "    </tr>\n",
       "    <tr>\n",
       "        <td>9th Grade EXPLORE (2010)</td>\n",
       "    </tr>\n",
       "    <tr>\n",
       "        <td>ADEQUATE_YEARLY_PROGRESS_MADE_</td>\n",
       "    </tr>\n",
       "    <tr>\n",
       "        <td>AVERAGE_STUDENT_ATTENDANCE</td>\n",
       "    </tr>\n",
       "    <tr>\n",
       "        <td>AVERAGE_TEACHER_ATTENDANCE</td>\n",
       "    </tr>\n",
       "    <tr>\n",
       "        <td>CITY</td>\n",
       "    </tr>\n",
       "    <tr>\n",
       "        <td>COLLABORATIVE_NAME</td>\n",
       "    </tr>\n",
       "    <tr>\n",
       "        <td>COLLEGE_ELIGIBILITY__</td>\n",
       "    </tr>\n",
       "    <tr>\n",
       "        <td>COLLEGE_ENROLLMENT</td>\n",
       "    </tr>\n",
       "    <tr>\n",
       "        <td>COLLEGE_ENROLLMENT_RATE__</td>\n",
       "    </tr>\n",
       "    <tr>\n",
       "        <td>COMMUNITY_AREA_NAME</td>\n",
       "    </tr>\n",
       "    <tr>\n",
       "        <td>COMMUNITY_AREA_NUMBER</td>\n",
       "    </tr>\n",
       "    <tr>\n",
       "        <td>CPS_PERFORMANCE_POLICY_LEVEL</td>\n",
       "    </tr>\n",
       "    <tr>\n",
       "        <td>CPS_PERFORMANCE_POLICY_STATUS</td>\n",
       "    </tr>\n",
       "    <tr>\n",
       "        <td>ENVIRONMENT_ICON</td>\n",
       "    </tr>\n",
       "    <tr>\n",
       "        <td>ENVIRONMENT_SCORE</td>\n",
       "    </tr>\n",
       "    <tr>\n",
       "        <td>Elementary, Middle, or High School</td>\n",
       "    </tr>\n",
       "    <tr>\n",
       "        <td>FAMILY_INVOLVEMENT_ICON</td>\n",
       "    </tr>\n",
       "    <tr>\n",
       "        <td>FAMILY_INVOLVEMENT_SCORE</td>\n",
       "    </tr>\n",
       "    <tr>\n",
       "        <td>FRESHMAN_ON_TRACK_RATE__</td>\n",
       "    </tr>\n",
       "    <tr>\n",
       "        <td>GENERAL_SERVICES_ROUTE</td>\n",
       "    </tr>\n",
       "    <tr>\n",
       "        <td>GR3_5_GRADE_LEVEL_MATH__</td>\n",
       "    </tr>\n",
       "    <tr>\n",
       "        <td>GR3_5_GRADE_LEVEL_READ__</td>\n",
       "    </tr>\n",
       "    <tr>\n",
       "        <td>GR3_5_KEEP_PACE_MATH__</td>\n",
       "    </tr>\n",
       "    <tr>\n",
       "        <td>GR3_5_KEEP_PACE_READ__</td>\n",
       "    </tr>\n",
       "    <tr>\n",
       "        <td>GR6_8_GRADE_LEVEL_MATH__</td>\n",
       "    </tr>\n",
       "    <tr>\n",
       "        <td>GR6_8_GRADE_LEVEL_READ__</td>\n",
       "    </tr>\n",
       "    <tr>\n",
       "        <td>GR6_8_KEEP_PACE_MATH_</td>\n",
       "    </tr>\n",
       "    <tr>\n",
       "        <td>GR6_8_KEEP_PACE_READ__</td>\n",
       "    </tr>\n",
       "    <tr>\n",
       "        <td>GRADUATION_RATE__</td>\n",
       "    </tr>\n",
       "    <tr>\n",
       "        <td>GR_8_EXPLORE_MATH__</td>\n",
       "    </tr>\n",
       "    <tr>\n",
       "        <td>GR_8_EXPLORE_READ__</td>\n",
       "    </tr>\n",
       "    <tr>\n",
       "        <td>HEALTHY_SCHOOL_CERTIFIED</td>\n",
       "    </tr>\n",
       "    <tr>\n",
       "        <td>INDIVIDUALIZED_EDUCATION_PROGRAM_COMPLIANCE_RATE</td>\n",
       "    </tr>\n",
       "    <tr>\n",
       "        <td>INSTRUCTION_ICON</td>\n",
       "    </tr>\n",
       "    <tr>\n",
       "        <td>INSTRUCTION_SCORE</td>\n",
       "    </tr>\n",
       "    <tr>\n",
       "        <td>ISAT_EXCEEDING_MATH__</td>\n",
       "    </tr>\n",
       "    <tr>\n",
       "        <td>ISAT_EXCEEDING_READING__</td>\n",
       "    </tr>\n",
       "    <tr>\n",
       "        <td>ISAT_VALUE_ADD_COLOR_MATH</td>\n",
       "    </tr>\n",
       "    <tr>\n",
       "        <td>ISAT_VALUE_ADD_COLOR_READ</td>\n",
       "    </tr>\n",
       "    <tr>\n",
       "        <td>ISAT_VALUE_ADD_MATH</td>\n",
       "    </tr>\n",
       "    <tr>\n",
       "        <td>ISAT_VALUE_ADD_READ</td>\n",
       "    </tr>\n",
       "    <tr>\n",
       "        <td>LATITUDE</td>\n",
       "    </tr>\n",
       "    <tr>\n",
       "        <td>LEADERS_ICON</td>\n",
       "    </tr>\n",
       "    <tr>\n",
       "        <td>LEADERS_SCORE</td>\n",
       "    </tr>\n",
       "    <tr>\n",
       "        <td>LINK</td>\n",
       "    </tr>\n",
       "    <tr>\n",
       "        <td>LOCATION</td>\n",
       "    </tr>\n",
       "    <tr>\n",
       "        <td>LONGITUDE</td>\n",
       "    </tr>\n",
       "    <tr>\n",
       "        <td>NAME_OF_SCHOOL</td>\n",
       "    </tr>\n",
       "    <tr>\n",
       "        <td>NETWORK_MANAGER</td>\n",
       "    </tr>\n",
       "    <tr>\n",
       "        <td>NET_CHANGE_EXPLORE_AND_PLAN</td>\n",
       "    </tr>\n",
       "    <tr>\n",
       "        <td>NET_CHANGE_PLAN_AND_ACT</td>\n",
       "    </tr>\n",
       "    <tr>\n",
       "        <td>PARENT_ENGAGEMENT_ICON</td>\n",
       "    </tr>\n",
       "    <tr>\n",
       "        <td>PARENT_ENGAGEMENT_SCORE</td>\n",
       "    </tr>\n",
       "    <tr>\n",
       "        <td>PARENT_ENVIRONMENT_ICON</td>\n",
       "    </tr>\n",
       "    <tr>\n",
       "        <td>PARENT_ENVIRONMENT_SCORE</td>\n",
       "    </tr>\n",
       "    <tr>\n",
       "        <td>PHONE_NUMBER</td>\n",
       "    </tr>\n",
       "    <tr>\n",
       "        <td>PK_2_LITERACY__</td>\n",
       "    </tr>\n",
       "    <tr>\n",
       "        <td>PK_2_MATH__</td>\n",
       "    </tr>\n",
       "    <tr>\n",
       "        <td>POLICE_DISTRICT</td>\n",
       "    </tr>\n",
       "    <tr>\n",
       "        <td>RATE_OF_MISCONDUCTS__PER_100_STUDENTS_</td>\n",
       "    </tr>\n",
       "    <tr>\n",
       "        <td>SAFETY_ICON</td>\n",
       "    </tr>\n",
       "    <tr>\n",
       "        <td>SAFETY_SCORE</td>\n",
       "    </tr>\n",
       "    <tr>\n",
       "        <td>SCHOOL_ID</td>\n",
       "    </tr>\n",
       "    <tr>\n",
       "        <td>STATE</td>\n",
       "    </tr>\n",
       "    <tr>\n",
       "        <td>STREET_ADDRESS</td>\n",
       "    </tr>\n",
       "    <tr>\n",
       "        <td>STUDENTS_PASSING__ALGEBRA__</td>\n",
       "    </tr>\n",
       "    <tr>\n",
       "        <td>STUDENTS_TAKING__ALGEBRA__</td>\n",
       "    </tr>\n",
       "    <tr>\n",
       "        <td>TEACHERS_ICON</td>\n",
       "    </tr>\n",
       "    <tr>\n",
       "        <td>TEACHERS_SCORE</td>\n",
       "    </tr>\n",
       "    <tr>\n",
       "        <td>TRACK_SCHEDULE</td>\n",
       "    </tr>\n",
       "    <tr>\n",
       "        <td>WARD</td>\n",
       "    </tr>\n",
       "    <tr>\n",
       "        <td>X_COORDINATE</td>\n",
       "    </tr>\n",
       "    <tr>\n",
       "        <td>Y_COORDINATE</td>\n",
       "    </tr>\n",
       "    <tr>\n",
       "        <td>ZIP_CODE</td>\n",
       "    </tr>\n",
       "</table>"
      ],
      "text/plain": [
       "[('10th Grade PLAN (2009)',),\n",
       " ('10th Grade PLAN (2010)',),\n",
       " ('11th Grade Average ACT (2011)',),\n",
       " ('9th Grade EXPLORE (2009)',),\n",
       " ('9th Grade EXPLORE (2010)',),\n",
       " ('ADEQUATE_YEARLY_PROGRESS_MADE_',),\n",
       " ('AVERAGE_STUDENT_ATTENDANCE',),\n",
       " ('AVERAGE_TEACHER_ATTENDANCE',),\n",
       " ('CITY',),\n",
       " ('COLLABORATIVE_NAME',),\n",
       " ('COLLEGE_ELIGIBILITY__',),\n",
       " ('COLLEGE_ENROLLMENT',),\n",
       " ('COLLEGE_ENROLLMENT_RATE__',),\n",
       " ('COMMUNITY_AREA_NAME',),\n",
       " ('COMMUNITY_AREA_NUMBER',),\n",
       " ('CPS_PERFORMANCE_POLICY_LEVEL',),\n",
       " ('CPS_PERFORMANCE_POLICY_STATUS',),\n",
       " ('ENVIRONMENT_ICON',),\n",
       " ('ENVIRONMENT_SCORE',),\n",
       " ('Elementary, Middle, or High School',),\n",
       " ('FAMILY_INVOLVEMENT_ICON',),\n",
       " ('FAMILY_INVOLVEMENT_SCORE',),\n",
       " ('FRESHMAN_ON_TRACK_RATE__',),\n",
       " ('GENERAL_SERVICES_ROUTE',),\n",
       " ('GR3_5_GRADE_LEVEL_MATH__',),\n",
       " ('GR3_5_GRADE_LEVEL_READ__',),\n",
       " ('GR3_5_KEEP_PACE_MATH__',),\n",
       " ('GR3_5_KEEP_PACE_READ__',),\n",
       " ('GR6_8_GRADE_LEVEL_MATH__',),\n",
       " ('GR6_8_GRADE_LEVEL_READ__',),\n",
       " ('GR6_8_KEEP_PACE_MATH_',),\n",
       " ('GR6_8_KEEP_PACE_READ__',),\n",
       " ('GRADUATION_RATE__',),\n",
       " ('GR_8_EXPLORE_MATH__',),\n",
       " ('GR_8_EXPLORE_READ__',),\n",
       " ('HEALTHY_SCHOOL_CERTIFIED',),\n",
       " ('INDIVIDUALIZED_EDUCATION_PROGRAM_COMPLIANCE_RATE',),\n",
       " ('INSTRUCTION_ICON',),\n",
       " ('INSTRUCTION_SCORE',),\n",
       " ('ISAT_EXCEEDING_MATH__',),\n",
       " ('ISAT_EXCEEDING_READING__',),\n",
       " ('ISAT_VALUE_ADD_COLOR_MATH',),\n",
       " ('ISAT_VALUE_ADD_COLOR_READ',),\n",
       " ('ISAT_VALUE_ADD_MATH',),\n",
       " ('ISAT_VALUE_ADD_READ',),\n",
       " ('LATITUDE',),\n",
       " ('LEADERS_ICON',),\n",
       " ('LEADERS_SCORE',),\n",
       " ('LINK',),\n",
       " ('LOCATION',),\n",
       " ('LONGITUDE',),\n",
       " ('NAME_OF_SCHOOL',),\n",
       " ('NETWORK_MANAGER',),\n",
       " ('NET_CHANGE_EXPLORE_AND_PLAN',),\n",
       " ('NET_CHANGE_PLAN_AND_ACT',),\n",
       " ('PARENT_ENGAGEMENT_ICON',),\n",
       " ('PARENT_ENGAGEMENT_SCORE',),\n",
       " ('PARENT_ENVIRONMENT_ICON',),\n",
       " ('PARENT_ENVIRONMENT_SCORE',),\n",
       " ('PHONE_NUMBER',),\n",
       " ('PK_2_LITERACY__',),\n",
       " ('PK_2_MATH__',),\n",
       " ('POLICE_DISTRICT',),\n",
       " ('RATE_OF_MISCONDUCTS__PER_100_STUDENTS_',),\n",
       " ('SAFETY_ICON',),\n",
       " ('SAFETY_SCORE',),\n",
       " ('SCHOOL_ID',),\n",
       " ('STATE',),\n",
       " ('STREET_ADDRESS',),\n",
       " ('STUDENTS_PASSING__ALGEBRA__',),\n",
       " ('STUDENTS_TAKING__ALGEBRA__',),\n",
       " ('TEACHERS_ICON',),\n",
       " ('TEACHERS_SCORE',),\n",
       " ('TRACK_SCHEDULE',),\n",
       " ('WARD',),\n",
       " ('X_COORDINATE',),\n",
       " ('Y_COORDINATE',),\n",
       " ('ZIP_CODE',)]"
      ]
     },
     "execution_count": 50,
     "metadata": {},
     "output_type": "execute_result"
    }
   ],
   "source": [
    "%sql SELECT COLNAME from SYSCAT.COLUMNS where TABNAME ='CHICAGO_PUBLIC_SCHOOLS';"
   ]
  },
  {
   "cell_type": "code",
   "execution_count": 55,
   "id": "ad9c10a4-dfc4-4599-a51d-363a0136cd4d",
   "metadata": {},
   "outputs": [
    {
     "name": "stdout",
     "output_type": "stream",
     "text": [
      " * ibm_db_sa://wzk22941:***@b0aebb68-94fa-46ec-a1fc-1c999edb6187.c3n41cmd0nqnrk39u98g.databases.appdomain.cloud:31249/bludb\n",
      "Done.\n"
     ]
    },
    {
     "data": {
      "text/html": [
       "<table>\n",
       "    <tr>\n",
       "        <th>Elementary, Middle, or High School</th>\n",
       "        <th>average_safety_score</th>\n",
       "    </tr>\n",
       "    <tr>\n",
       "        <td>ES</td>\n",
       "        <td>49</td>\n",
       "    </tr>\n",
       "    <tr>\n",
       "        <td>HS</td>\n",
       "        <td>49</td>\n",
       "    </tr>\n",
       "    <tr>\n",
       "        <td>MS</td>\n",
       "        <td>48</td>\n",
       "    </tr>\n",
       "</table>"
      ],
      "text/plain": [
       "[('ES', 49), ('HS', 49), ('MS', 48)]"
      ]
     },
     "execution_count": 55,
     "metadata": {},
     "output_type": "execute_result"
    }
   ],
   "source": [
    "%%sql \n",
    "SELECT \"Elementary, Middle, or High School\",AVG(SAFETY_SCORE) AS AVERAGE_SAFETY_SCORE\n",
    "FROM CHICAGO_PUBLIC_SCHOOLS\n",
    "GROUP BY \"Elementary, Middle, or High School\";"
   ]
  },
  {
   "cell_type": "code",
   "execution_count": 62,
   "id": "54d99853-eb8e-4305-85bb-318a55e0f721",
   "metadata": {},
   "outputs": [
    {
     "name": "stdout",
     "output_type": "stream",
     "text": [
      " * ibm_db_sa://wzk22941:***@b0aebb68-94fa-46ec-a1fc-1c999edb6187.c3n41cmd0nqnrk39u98g.databases.appdomain.cloud:31249/bludb\n",
      "Done.\n"
     ]
    },
    {
     "data": {
      "text/html": [
       "<table>\n",
       "    <tr>\n",
       "        <th>community_area_name</th>\n",
       "        <th>percent_households_below_poverty</th>\n",
       "    </tr>\n",
       "    <tr>\n",
       "        <td>Riverdale</td>\n",
       "        <td>56.5</td>\n",
       "    </tr>\n",
       "    <tr>\n",
       "        <td>Fuller Park</td>\n",
       "        <td>51.2</td>\n",
       "    </tr>\n",
       "    <tr>\n",
       "        <td>Englewood</td>\n",
       "        <td>46.6</td>\n",
       "    </tr>\n",
       "    <tr>\n",
       "        <td>North Lawndale</td>\n",
       "        <td>43.1</td>\n",
       "    </tr>\n",
       "    <tr>\n",
       "        <td>East Garfield Park</td>\n",
       "        <td>42.4</td>\n",
       "    </tr>\n",
       "</table>"
      ],
      "text/plain": [
       "[('Riverdale', Decimal('56.5')),\n",
       " ('Fuller Park', Decimal('51.2')),\n",
       " ('Englewood', Decimal('46.6')),\n",
       " ('North Lawndale', Decimal('43.1')),\n",
       " ('East Garfield Park', Decimal('42.4'))]"
      ]
     },
     "execution_count": 62,
     "metadata": {},
     "output_type": "execute_result"
    }
   ],
   "source": [
    "%%sql\n",
    "SELECT COMMUNITY_AREA_NAME, PERCENT_HOUSEHOLDS_BELOW_POVERTY \n",
    "from CENSUS_DATA \n",
    "ORDER BY PERCENT_HOUSEHOLDS_BELOW_POVERTY DESC\n",
    "LIMIT 5;\n"
   ]
  },
  {
   "cell_type": "code",
   "execution_count": 85,
   "id": "10e83bea-436e-4ef8-b4c5-61b62642893d",
   "metadata": {},
   "outputs": [
    {
     "name": "stdout",
     "output_type": "stream",
     "text": [
      " * ibm_db_sa://wzk22941:***@b0aebb68-94fa-46ec-a1fc-1c999edb6187.c3n41cmd0nqnrk39u98g.databases.appdomain.cloud:31249/bludb\n",
      "Done.\n"
     ]
    },
    {
     "data": {
      "text/html": [
       "<table>\n",
       "    <tr>\n",
       "        <th>community_area_number</th>\n",
       "        <th>frequency</th>\n",
       "    </tr>\n",
       "    <tr>\n",
       "        <td>25</td>\n",
       "        <td>43</td>\n",
       "    </tr>\n",
       "</table>"
      ],
      "text/plain": [
       "[(25, 43)]"
      ]
     },
     "execution_count": 85,
     "metadata": {},
     "output_type": "execute_result"
    }
   ],
   "source": [
    "%%sql\n",
    "SELECT COMMUNITY_AREA_NUMBER, COUNT(COMMUNITY_AREA_NUMBER) AS FREQUENCY\n",
    "FROM CHICAGO_CRIME_DATA\n",
    "GROUP BY COMMUNITY_AREA_NUMBER\n",
    "ORDER BY COUNT(COMMUNITY_AREA_NUMBER) DESC\n",
    "LIMIT 1;"
   ]
  },
  {
   "cell_type": "code",
   "execution_count": 72,
   "id": "7762e4d2-492c-43ed-bc1a-a14a36317938",
   "metadata": {},
   "outputs": [
    {
     "name": "stdout",
     "output_type": "stream",
     "text": [
      " * ibm_db_sa://wzk22941:***@b0aebb68-94fa-46ec-a1fc-1c999edb6187.c3n41cmd0nqnrk39u98g.databases.appdomain.cloud:31249/bludb\n",
      "Done.\n"
     ]
    },
    {
     "data": {
      "text/html": [
       "<table>\n",
       "    <tr>\n",
       "        <th>community_area_name</th>\n",
       "    </tr>\n",
       "    <tr>\n",
       "        <td>Riverdale</td>\n",
       "    </tr>\n",
       "</table>"
      ],
      "text/plain": [
       "[('Riverdale',)]"
      ]
     },
     "execution_count": 72,
     "metadata": {},
     "output_type": "execute_result"
    }
   ],
   "source": [
    "%%sql\n",
    "SELECT COMMUNITY_AREA_NAME\n",
    "FROM  CENSUS_DATA\n",
    "WHERE HARDSHIP_INDEX = (SELECT MAX(HARDSHIP_INDEX) FROM CENSUS_DATA);\n"
   ]
  },
  {
   "cell_type": "code",
   "execution_count": 86,
   "id": "f3e0f34f-fa61-4a00-974f-bac595295288",
   "metadata": {},
   "outputs": [
    {
     "name": "stdout",
     "output_type": "stream",
     "text": [
      " * ibm_db_sa://wzk22941:***@b0aebb68-94fa-46ec-a1fc-1c999edb6187.c3n41cmd0nqnrk39u98g.databases.appdomain.cloud:31249/bludb\n",
      "Done.\n"
     ]
    },
    {
     "data": {
      "text/html": [
       "<table>\n",
       "    <tr>\n",
       "        <th>community_area_name</th>\n",
       "    </tr>\n",
       "    <tr>\n",
       "        <td>Austin</td>\n",
       "    </tr>\n",
       "</table>"
      ],
      "text/plain": [
       "[('Austin',)]"
      ]
     },
     "execution_count": 86,
     "metadata": {},
     "output_type": "execute_result"
    }
   ],
   "source": [
    "%%sql\n",
    "SELECT community_area_name\n",
    "FROM CENSUS_DATA \n",
    "WHERE COMMUNITY_AREA_NUMBER = (    \n",
    "    SELECT COMMUNITY_AREA_NUMBER \n",
    "    FROM CHICAGO_CRIME_DATA\n",
    "    GROUP BY COMMUNITY_AREA_NUMBER\n",
    "    ORDER BY COUNT(COMMUNITY_AREA_NUMBER) DESC\n",
    "    LIMIT 1)\n",
    "\n",
    "LIMIT 1;"
   ]
  },
  {
   "cell_type": "code",
   "execution_count": null,
   "id": "c57e8c09-e741-44a3-a57b-efc0404d944a",
   "metadata": {},
   "outputs": [],
   "source": []
  }
 ],
 "metadata": {
  "kernelspec": {
   "display_name": "Python 3 (ipykernel)",
   "language": "python",
   "name": "python3"
  },
  "language_info": {
   "codemirror_mode": {
    "name": "ipython",
    "version": 3
   },
   "file_extension": ".py",
   "mimetype": "text/x-python",
   "name": "python",
   "nbconvert_exporter": "python",
   "pygments_lexer": "ipython3",
   "version": "3.9.13"
  }
 },
 "nbformat": 4,
 "nbformat_minor": 5
}
